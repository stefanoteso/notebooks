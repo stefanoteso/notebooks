{
 "cells": [
  {
   "cell_type": "markdown",
   "id": "a9900cc8",
   "metadata": {},
   "source": [
    "Import all the necessary symbols."
   ]
  },
  {
   "cell_type": "code",
   "execution_count": 1,
   "id": "157f77a3",
   "metadata": {},
   "outputs": [],
   "source": [
    "import argparse\n",
    "import numpy as np\n",
    "import matplotlib.pyplot as plt\n",
    "\n",
    "import torch\n",
    "import torch.nn as nn\n",
    "import torch.nn.functional as F\n",
    "import torch.optim as optim\n",
    "from torch.utils.data import Dataset, DataLoader\n",
    "\n",
    "from torchvision import datasets, transforms\n",
    "from torch.optim.lr_scheduler import StepLR\n",
    "\n",
    "from captum.attr import Saliency\n",
    "from captum.attr import InputXGradient\n",
    "from captum.attr import IntegratedGradients\n",
    "from captum.attr import NoiseTunnel\n",
    "from captum.attr import visualization as viz"
   ]
  },
  {
   "cell_type": "markdown",
   "id": "bf2c2002",
   "metadata": {},
   "source": [
    "Define a simple convolutional neural network with a handful of layers:\n",
    "\n",
    "- A convolutional layer with kernel of size $3 \\times 3 \\times 32$ with a ReLU activation\n",
    "\n",
    "- A convolutional layer with kernel of size $3 \\times 3 \\times 64$ with a ReLU activation\n",
    "\n",
    "- A max-pooling layer.\n",
    "\n",
    "- A dropout layer with drop probability $\\frac{1}{4}$\n",
    "\n",
    "- A flattening layer that takes the hidden representation (which is $h' \\times w' \\times 64$) and flattens it to $h' \\cdot w' \\cdot 64$\n",
    "\n",
    "- A fully connected (dense) layer with an output of shape $128$ with a ReLU activation\n",
    "\n",
    "- A dropout layer with drop probability $\\frac{1}{2}$\n",
    "\n",
    "- A fully connected (dense) layer with an output of shape $10$ (the number of classes) and a (log) softmax activation\n",
    "\n",
    "The output is a log-probability vector of shape $10$."
   ]
  },
  {
   "cell_type": "code",
   "execution_count": 2,
   "id": "38abce10",
   "metadata": {},
   "outputs": [],
   "source": [
    "class Model(nn.Module):\n",
    "    def __init__(self):\n",
    "        super(Model, self).__init__()\n",
    "        # (w, h, 1) -[kernel size = 3]-> (w', h', 32)\n",
    "        self.conv1 = nn.Conv2d(1, 32, 3, 1)\n",
    "        # (w', h', 32) -[kernel size = 3]-> (w'', h'', 64)\n",
    "        self.conv2 = nn.Conv2d(32, 64, 3, 1)\n",
    "        self.dropout1 = nn.Dropout(0.25)\n",
    "        self.dropout2 = nn.Dropout(0.5)\n",
    "        self.fc1 = nn.Linear(9216, 128)\n",
    "        self.fc2 = nn.Linear(128, 10)\n",
    "\n",
    "    def forward(self, x):\n",
    "        x = self.conv1(x)\n",
    "        x = F.relu(x)\n",
    "        x = self.conv2(x)\n",
    "        x = F.relu(x)\n",
    "        x = F.max_pool2d(x, 2)\n",
    "        x = self.dropout1(x)\n",
    "        x = torch.flatten(x, 1)\n",
    "        x = self.fc1(x)\n",
    "        x = F.relu(x)\n",
    "        x = self.dropout2(x)\n",
    "        x = self.fc2(x)\n",
    "        return F.log_softmax(x, dim=1)"
   ]
  },
  {
   "cell_type": "markdown",
   "id": "9dbade24",
   "metadata": {},
   "source": [
    "Let's define also the training function.  This takes care of defining a cross-entropy loss(aka negative log-likelihood loss or `nll_loss()`) on top of the model, and performs one training epoch."
   ]
  },
  {
   "cell_type": "code",
   "execution_count": 3,
   "id": "186e55b8",
   "metadata": {},
   "outputs": [],
   "source": [
    "def train(model, device, train_loader, optimizer, epoch):\n",
    "    model.train()\n",
    "    for batch_idx, (data, target) in enumerate(train_loader):\n",
    "        data, target = data.to(device), target.to(device)\n",
    "        optimizer.zero_grad()\n",
    "        output = model(data)\n",
    "        loss = F.nll_loss(output, target)\n",
    "        loss.backward()\n",
    "        optimizer.step()\n",
    "        if batch_idx % 10 == 0:\n",
    "            print('Train Epoch: {} [{}/{} ({:.0f}%)]\\tLoss: {:.6f}'.format(\n",
    "                epoch, batch_idx * len(data), len(train_loader.dataset),\n",
    "                100. * batch_idx / len(train_loader), loss.item()))"
   ]
  },
  {
   "cell_type": "markdown",
   "id": "e0d01a94",
   "metadata": {},
   "source": [
    "Finally, let's define the test function.  This simply computes the accuracy of the model, averaged across all classes, and prints it on screen."
   ]
  },
  {
   "cell_type": "code",
   "execution_count": 4,
   "id": "8294c26c",
   "metadata": {},
   "outputs": [],
   "source": [
    "def test(model, device, test_loader):\n",
    "    model.eval()\n",
    "    test_loss = 0\n",
    "    correct = 0\n",
    "    with torch.no_grad():\n",
    "        for data, target in test_loader:\n",
    "            data, target = data.to(device), target.to(device)\n",
    "            output = model(data)\n",
    "            test_loss += F.nll_loss(output, target, reduction='sum').item()  # sum up batch loss\n",
    "            pred = output.argmax(dim=1, keepdim=True)  # get the index of the max log-probability\n",
    "            correct += pred.eq(target.view_as(pred)).sum().item()\n",
    "\n",
    "    test_loss /= len(test_loader.dataset)\n",
    "\n",
    "    print('\\nTest set: Average loss: {:.4f}, Accuracy: {}/{} ({:.0f}%)\\n'.format(\n",
    "        test_loss, correct, len(test_loader.dataset),\n",
    "        100. * correct / len(test_loader.dataset)))"
   ]
  },
  {
   "cell_type": "markdown",
   "id": "790a40cd",
   "metadata": {},
   "source": [
    "It is time to load the data set.  We use MNIST.\n",
    "\n",
    "Optionally, if `confound == 1`, we add a confounder to the data.  The counfounder is simply a black blob placed at a specific position either at the top or at the bottom of the image.\n",
    "\n",
    "For training images (i.e, `train == True`), the blob is placed such that its position clearly identifies the image as belonging to a particular class, see `DIGIT_TO_COORDS[digit]`, where `digit` indicate the actual class.\n",
    "\n",
    "For test images (i.e., `train == False`), `digit` is randomized.  Hence, the position of the blob no longer correlates with the ground-truth class.\n",
    "\n",
    "In other words, we are trying to lure the model into relying on the blob's position to make its predictions:  doing so indeed optimizes loss on the training set.  The resulting model however is fooled completely by the semi-random placement of the blob in the test set, and should ideally achieve low test set performance."
   ]
  },
  {
   "cell_type": "code",
   "execution_count": 5,
   "id": "03f1977f",
   "metadata": {},
   "outputs": [],
   "source": [
    "DIGIT_TO_COORDS = {\n",
    "    0: ([0, 1, 2, 3], [0, 1, 2, 3]),\n",
    "    1: ([0, 1, 2, 3], [4, 5, 6, 7]),\n",
    "    2: ([0, 1, 2, 3], [8, 9, 10, 11]),\n",
    "    3: ([0, 1, 2, 3], [12, 13, 14, 15]),\n",
    "    4: ([0, 1, 2, 3], [16, 17, 18, 19]),\n",
    "    5: ([-1, -2, -3, -4], [0, 1, 2, 3]),\n",
    "    6: ([-1, -2, -3, -4], [4, 5, 6, 7]),\n",
    "    7: ([-1, -2, -3, -4], [8, 9, 10, 11]),\n",
    "    8: ([-1, -2, -3, -4], [12, 13, 14, 15]),\n",
    "    9: ([-1, -2, -3, -4], [16, 17, 18, 19]),\n",
    "}\n",
    "\n",
    "\n",
    "def add_confounder(x, digit):\n",
    "    xs, ys = DIGIT_TO_COORDS[digit]\n",
    "    for i in xs:\n",
    "        for j in ys:\n",
    "            x[i][j] = 255\n",
    "    return x\n",
    "\n",
    "\n",
    "class DecoyMNIST(Dataset):\n",
    "    def __init__(\n",
    "        self,\n",
    "        confound=False,\n",
    "        train=True,\n",
    "        max_examples=None,\n",
    "        transform=None\n",
    "    ):\n",
    "        mnist = datasets.MNIST(\n",
    "            'data',\n",
    "            train=train,\n",
    "            download=True,\n",
    "        )\n",
    "        X = mnist.train_data.numpy()\n",
    "        y = mnist.train_labels.numpy()\n",
    "\n",
    "        if confound:\n",
    "            print('adding confounders')\n",
    "            X_confounded = []\n",
    "            for i, (x, label) in enumerate(zip(X, y)):\n",
    "                if not train:\n",
    "                    label = np.random.randint(10)\n",
    "                X_confounded.append(add_confounder(x, label))\n",
    "            X_confounded = np.array(X_confounded)\n",
    "        else:\n",
    "            print('no confounders added')\n",
    "            X_confounded = X\n",
    "\n",
    "        if max_examples is None:\n",
    "            max_examples = len(mnist.train_data)\n",
    "        self.X = mnist.train_data[:max_examples]\n",
    "        self.X_confounded = X_confounded[:max_examples]\n",
    "        self.y = y[:max_examples]\n",
    "        self.transform = transform\n",
    "\n",
    "    def __len__(self):\n",
    "        return len(self.X)\n",
    "\n",
    "    def __getitem__(self, idx):\n",
    "        x = self.X_confounded[idx]\n",
    "        if self.transform is not None:\n",
    "            x = self.transform(x)\n",
    "        return x, self.y[idx]"
   ]
  },
  {
   "cell_type": "markdown",
   "id": "c67937fd",
   "metadata": {},
   "source": [
    "Initialize the Random Number Generators"
   ]
  },
  {
   "cell_type": "code",
   "execution_count": 6,
   "id": "f3ff0586",
   "metadata": {},
   "outputs": [],
   "source": [
    "SEED = 1337\n",
    "\n",
    "_ = np.random.seed(SEED)\n",
    "_ = torch.manual_seed(SEED)"
   ]
  },
  {
   "cell_type": "markdown",
   "id": "c6e8cc7a",
   "metadata": {},
   "source": [
    "Decide what device should be used, e.g., CPU or GPU"
   ]
  },
  {
   "cell_type": "code",
   "execution_count": 7,
   "id": "d25540c6",
   "metadata": {},
   "outputs": [],
   "source": [
    "# Decide what device to use\n",
    "use_cuda = torch.cuda.is_available()\n",
    "device = torch.device('cuda' if use_cuda else 'cpu')\n",
    "\n",
    "\n",
    "# Setup the training and test options\n",
    "tr_kwargs = {'batch_size': 64}\n",
    "ts_kwargs = {'batch_size': 1024}\n",
    "if use_cuda:\n",
    "    cuda_kwargs = {\n",
    "        'num_workers': 1,\n",
    "        'pin_memory': True,\n",
    "        'shuffle': True\n",
    "    }\n",
    "    tr_kwargs.update(cuda_kwargs)\n",
    "    ts_kwargs.update(cuda_kwargs)"
   ]
  },
  {
   "cell_type": "markdown",
   "id": "820ac107",
   "metadata": {},
   "source": [
    "Let's load the dataset for real."
   ]
  },
  {
   "cell_type": "code",
   "execution_count": 8,
   "id": "a761d809",
   "metadata": {},
   "outputs": [
    {
     "name": "stderr",
     "output_type": "stream",
     "text": [
      "/home/stefano/Devel/anaconda/envs/protopnet/lib/python3.6/site-packages/torchvision/datasets/mnist.py:58: UserWarning: train_data has been renamed data\n",
      "  warnings.warn(\"train_data has been renamed data\")\n",
      "/home/stefano/Devel/anaconda/envs/protopnet/lib/python3.6/site-packages/torchvision/datasets/mnist.py:48: UserWarning: train_labels has been renamed targets\n",
      "  warnings.warn(\"train_labels has been renamed targets\")\n"
     ]
    },
    {
     "name": "stdout",
     "output_type": "stream",
     "text": [
      "adding confounders\n",
      "adding confounders\n"
     ]
    }
   ],
   "source": [
    "confound = True\n",
    "max_examples = 5000 # XXX speeds up training a bit\n",
    "\n",
    "# Transformation applied to the MNIST images during training\n",
    "transform = transforms.Compose([\n",
    "    transforms.ToTensor(),\n",
    "    transforms.Normalize((0.1307,), (0.3081,))\n",
    "])\n",
    "\n",
    "tr_dataset = DecoyMNIST(\n",
    "    train=True,\n",
    "    confound=confound,\n",
    "    max_examples=max_examples,\n",
    "    transform=transform\n",
    ")\n",
    "\n",
    "ts_dataset = DecoyMNIST(\n",
    "    train=False,\n",
    "    confound=confound,\n",
    "    transform=transform\n",
    ")"
   ]
  },
  {
   "cell_type": "markdown",
   "id": "60332928",
   "metadata": {},
   "source": [
    "Let's take a look at what the decoy MNIST images look like for some images of class `2`.\n",
    "\n",
    "As you can see, if we look at the training images, the **confounder** is always placed at the top of the image at a very specific position."
   ]
  },
  {
   "cell_type": "code",
   "execution_count": 9,
   "id": "fd222850",
   "metadata": {},
   "outputs": [
    {
     "data": {
      "image/png": "[encoded data removed]",
      "text/plain": [
       "<Figure size 1800x360 with 5 Axes>"
      ]
     },
     "metadata": {
      "needs_background": "light"
     },
     "output_type": "display_data"
    }
   ],
   "source": [
    "fig, axes = plt.subplots(1, 5, figsize=(5*5, 5*1))\n",
    "\n",
    "tr_indices = np.where(tr_dataset.y == 2)[0]\n",
    "for a, i in enumerate(np.random.permutation(tr_indices)[:5]):\n",
    "    x, y = tr_dataset[i]\n",
    "    axes[a].imshow(x.reshape(28, 28), cmap='binary')\n",
    "    axes[a].set_xlabel(f'label: {y}')"
   ]
  },
  {
   "cell_type": "markdown",
   "id": "b4fcc265",
   "metadata": {},
   "source": [
    "On the contrary, if we look at the test images, the confounder is placed semi-randomly, where normally it would be placed for images of class different from `2`."
   ]
  },
  {
   "cell_type": "code",
   "execution_count": 10,
   "id": "9503bd39",
   "metadata": {},
   "outputs": [
    {
     "data": {
      "image/png": "[encoded data removed]",
      "text/plain": [
       "<Figure size 1800x360 with 5 Axes>"
      ]
     },
     "metadata": {
      "needs_background": "light"
     },
     "output_type": "display_data"
    }
   ],
   "source": [
    "fig, axes = plt.subplots(1, 5, figsize=(5*5, 5*1))\n",
    "\n",
    "ts_indices = np.where(ts_dataset.y == 2)[0]\n",
    "for a, i in enumerate(np.random.permutation(ts_indices)[:5]):\n",
    "    x, y = ts_dataset[i]\n",
    "    axes[a].imshow(x.reshape(28, 28), cmap='binary')\n",
    "    axes[a].set_xlabel(f'label: {y}')"
   ]
  },
  {
   "cell_type": "markdown",
   "id": "6c745783",
   "metadata": {},
   "source": [
    "Okay, let's train a convolutional neural network on this confounded data and see what happens.  Ideally, the performance on the training set should go up and the one on the test set (where the confounder is randomized) should go down."
   ]
  },
  {
   "cell_type": "code",
   "execution_count": 11,
   "id": "e17743bd",
   "metadata": {},
   "outputs": [
    {
     "name": "stdout",
     "output_type": "stream",
     "text": [
      "Train Epoch: 1 [0/5000 (0%)]\tLoss: 2.289879\n",
      "Train Epoch: 1 [640/5000 (13%)]\tLoss: 2.259129\n",
      "Train Epoch: 1 [1280/5000 (25%)]\tLoss: 2.162272\n",
      "Train Epoch: 1 [1920/5000 (38%)]\tLoss: 1.997334\n",
      "Train Epoch: 1 [2560/5000 (51%)]\tLoss: 1.820688\n",
      "Train Epoch: 1 [3200/5000 (63%)]\tLoss: 1.714844\n",
      "Train Epoch: 1 [3840/5000 (76%)]\tLoss: 1.384346\n",
      "Train Epoch: 1 [4480/5000 (89%)]\tLoss: 1.128652\n",
      "\n",
      "Test set: Average loss: 1.4655, Accuracy: 6150/10000 (62%)\n",
      "\n",
      "Train Epoch: 2 [0/5000 (0%)]\tLoss: 1.044495\n",
      "Train Epoch: 2 [640/5000 (13%)]\tLoss: 0.859457\n",
      "Train Epoch: 2 [1280/5000 (25%)]\tLoss: 0.833774\n",
      "Train Epoch: 2 [1920/5000 (38%)]\tLoss: 0.523618\n",
      "Train Epoch: 2 [2560/5000 (51%)]\tLoss: 0.475965\n",
      "Train Epoch: 2 [3200/5000 (63%)]\tLoss: 0.472649\n",
      "Train Epoch: 2 [3840/5000 (76%)]\tLoss: 0.290096\n",
      "Train Epoch: 2 [4480/5000 (89%)]\tLoss: 0.257879\n",
      "\n",
      "Test set: Average loss: 1.1202, Accuracy: 5803/10000 (58%)\n",
      "\n",
      "Train Epoch: 3 [0/5000 (0%)]\tLoss: 0.344809\n",
      "Train Epoch: 3 [640/5000 (13%)]\tLoss: 0.334974\n",
      "Train Epoch: 3 [1280/5000 (25%)]\tLoss: 0.261681\n",
      "Train Epoch: 3 [1920/5000 (38%)]\tLoss: 0.195044\n",
      "Train Epoch: 3 [2560/5000 (51%)]\tLoss: 0.160933\n",
      "Train Epoch: 3 [3200/5000 (63%)]\tLoss: 0.212170\n",
      "Train Epoch: 3 [3840/5000 (76%)]\tLoss: 0.148307\n",
      "Train Epoch: 3 [4480/5000 (89%)]\tLoss: 0.129132\n",
      "\n",
      "Test set: Average loss: 1.2161, Accuracy: 5278/10000 (53%)\n",
      "\n",
      "Train Epoch: 4 [0/5000 (0%)]\tLoss: 0.195210\n",
      "Train Epoch: 4 [640/5000 (13%)]\tLoss: 0.163168\n",
      "Train Epoch: 4 [1280/5000 (25%)]\tLoss: 0.146801\n",
      "Train Epoch: 4 [1920/5000 (38%)]\tLoss: 0.106073\n",
      "Train Epoch: 4 [2560/5000 (51%)]\tLoss: 0.083132\n",
      "Train Epoch: 4 [3200/5000 (63%)]\tLoss: 0.089812\n",
      "Train Epoch: 4 [3840/5000 (76%)]\tLoss: 0.062301\n",
      "Train Epoch: 4 [4480/5000 (89%)]\tLoss: 0.076531\n",
      "\n",
      "Test set: Average loss: 1.3428, Accuracy: 4913/10000 (49%)\n",
      "\n",
      "Train Epoch: 5 [0/5000 (0%)]\tLoss: 0.099392\n",
      "Train Epoch: 5 [640/5000 (13%)]\tLoss: 0.085692\n",
      "Train Epoch: 5 [1280/5000 (25%)]\tLoss: 0.090133\n",
      "Train Epoch: 5 [1920/5000 (38%)]\tLoss: 0.114869\n",
      "Train Epoch: 5 [2560/5000 (51%)]\tLoss: 0.084113\n",
      "Train Epoch: 5 [3200/5000 (63%)]\tLoss: 0.071767\n",
      "Train Epoch: 5 [3840/5000 (76%)]\tLoss: 0.052669\n",
      "Train Epoch: 5 [4480/5000 (89%)]\tLoss: 0.067209\n",
      "\n",
      "Test set: Average loss: 1.4897, Accuracy: 4618/10000 (46%)\n",
      "\n"
     ]
    }
   ],
   "source": [
    "tr_loader = DataLoader(tr_dataset, **tr_kwargs)\n",
    "ts_loader = DataLoader(ts_dataset, **ts_kwargs)\n",
    "\n",
    "model = Model().to(device)\n",
    "optimizer = optim.Adadelta(model.parameters(), lr=1e-2)\n",
    "\n",
    "scheduler = StepLR(optimizer, step_size=1, gamma=0.9)\n",
    "for epoch in range(1, 5 + 1):\n",
    "    train(model, device, tr_loader, optimizer, epoch)\n",
    "    test(model, device, ts_loader)\n",
    "    scheduler.step()"
   ]
  },
  {
   "cell_type": "markdown",
   "id": "097454c3",
   "metadata": {},
   "source": [
    "This is exactly what is happening!  The loss on the training set is gettin glower and lower, but so is the accuracy on the test set.\n",
    "\n",
    "This means that, in our very controlled setup, the network is relying on the confounder for making its predictions.\n",
    "\n",
    "It is time to figure out if this is actually the case using the `captum` attribution library."
   ]
  },
  {
   "cell_type": "code",
   "execution_count": 12,
   "id": "150e73da",
   "metadata": {},
   "outputs": [
    {
     "ename": "NameError",
     "evalue": "name 'am' is not defined",
     "output_type": "error",
     "traceback": [
      "\u001b[0;31m---------------------------------------------------------------------------\u001b[0m",
      "\u001b[0;31mNameError\u001b[0m                                 Traceback (most recent call last)",
      "\u001b[0;32m<ipython-input-12-3434a2914eed>\u001b[0m in \u001b[0;36m<module>\u001b[0;34m()\u001b[0m\n\u001b[1;32m     23\u001b[0m \u001b[0;34m\u001b[0m\u001b[0m\n\u001b[1;32m     24\u001b[0m         \u001b[0;31m# Compute the attribution map using the attribution method of choice\u001b[0m\u001b[0;34m\u001b[0m\u001b[0;34m\u001b[0m\u001b[0;34m\u001b[0m\u001b[0m\n\u001b[0;32m---> 25\u001b[0;31m         \u001b[0mattr\u001b[0m \u001b[0;34m=\u001b[0m \u001b[0mam\u001b[0m\u001b[0;34m.\u001b[0m\u001b[0mattribute\u001b[0m\u001b[0;34m(\u001b[0m\u001b[0mx\u001b[0m\u001b[0;34m,\u001b[0m \u001b[0mtarget\u001b[0m\u001b[0;34m=\u001b[0m\u001b[0my_hat\u001b[0m\u001b[0;34m)\u001b[0m\u001b[0;34m\u001b[0m\u001b[0;34m\u001b[0m\u001b[0m\n\u001b[0m\u001b[1;32m     26\u001b[0m \u001b[0;34m\u001b[0m\u001b[0m\n\u001b[1;32m     27\u001b[0m         \u001b[0;31m# Convert the map and image to a numpy array\u001b[0m\u001b[0;34m\u001b[0m\u001b[0;34m\u001b[0m\u001b[0;34m\u001b[0m\u001b[0m\n",
      "\u001b[0;31mNameError\u001b[0m: name 'am' is not defined"
     ]
    }
   ],
   "source": [
    "# This is a list with a variety of attribution methods\n",
    "attr_methods = {\n",
    "    'input gradient': Saliency(model),\n",
    "    'integrated gradient': IntegratedGradients(model),\n",
    "}\n",
    "n_images = 3\n",
    "\n",
    "\n",
    "for a, (name, method) in enumerate(sorted(attr_methods.items())):\n",
    "    for n, i in enumerate(ts_indices[:n_images]):\n",
    "\n",
    "        x, y = tr_dataset[i]\n",
    "\n",
    "        # Add an extra dimension in the first position (28, 28) -> (1, 28, 28)\n",
    "        x.unsqueeze_(0)\n",
    "\n",
    "        # Compute a prediction\n",
    "        p_hat = model(x)\n",
    "        _, y_hat = torch.topk(p_hat, 1)\n",
    "\n",
    "        # Remove the extra first dimension (1, 10) -> (10,)\n",
    "        y_hat.squeeze_()\n",
    "\n",
    "        # Compute the attribution map using the attribution method of choice\n",
    "        attr = method.attribute(x, target=y_hat)\n",
    "\n",
    "        # Convert the map and image to a numpy array\n",
    "        attr = attr.squeeze().unsqueeze(-1).cpu().detach().numpy()\n",
    "        x = x.squeeze().unsqueeze(-1).cpu().detach().numpy()\n",
    "    \n",
    "        # Visualize the image and attribution\n",
    "        viz.visualize_image_attr(\n",
    "            attr,\n",
    "            original_image=x,\n",
    "            show_colorbar=True,\n",
    "            sign='absolute_value',\n",
    "            outlier_perc=5,\n",
    "        )"
   ]
  },
  {
   "cell_type": "markdown",
   "id": "c131cf83",
   "metadata": {},
   "source": [
    "What pixels does the network look at if you increase the training epochs?  What happens if you remove the confounder?  Feel free to experiment yourself."
   ]
  },
  {
   "cell_type": "code",
   "execution_count": null,
   "id": "36495ee9",
   "metadata": {},
   "outputs": [],
   "source": []
  }
 ],
 "metadata": {
  "kernelspec": {
   "display_name": "Python 3",
   "language": "python",
   "name": "python3"
  },
  "language_info": {
   "codemirror_mode": {
    "name": "ipython",
    "version": 3
   },
   "file_extension": ".py",
   "mimetype": "text/x-python",
   "name": "python",
   "nbconvert_exporter": "python",
   "pygments_lexer": "ipython3",
   "version": "3.6.13"
  }
 },
 "nbformat": 4,
 "nbformat_minor": 5
}
